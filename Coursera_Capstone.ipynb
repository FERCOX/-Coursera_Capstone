{
 "cells": [
  {
   "cell_type": "markdown",
   "id": "3e500099-b47a-438a-abb5-0c3b54d74160",
   "metadata": {},
   "source": [
    " Este notebook se utilizará principalmente para el proyecto final.\n",
    " Sobre los distintos barrios de Canadá\n"
   ]
  },
  {
   "cell_type": "code",
   "execution_count": 6,
   "id": "6b0e9054-b589-4dfe-bbb9-3acbad9ad967",
   "metadata": {},
   "outputs": [],
   "source": [
    "import pandas as pd\n",
    "import numpy as np"
   ]
  },
  {
   "cell_type": "code",
   "execution_count": 7,
   "id": "896f8f8e-7176-476f-bd98-0bfedc4e82ea",
   "metadata": {},
   "outputs": [
    {
     "name": "stdout",
     "output_type": "stream",
     "text": [
      "¡Hola, Proyecto Final del Curso!\n"
     ]
    }
   ],
   "source": [
    "print (\"¡Hola, Proyecto Final del Curso!\")"
   ]
  }
 ],
 "metadata": {
  "kernelspec": {
   "display_name": "Python",
   "language": "python",
   "name": "conda-env-python-py"
  },
  "language_info": {
   "codemirror_mode": {
    "name": "ipython",
    "version": 3
   },
   "file_extension": ".py",
   "mimetype": "text/x-python",
   "name": "python",
   "nbconvert_exporter": "python",
   "pygments_lexer": "ipython3",
   "version": "3.7.12"
  }
 },
 "nbformat": 4,
 "nbformat_minor": 5
}
