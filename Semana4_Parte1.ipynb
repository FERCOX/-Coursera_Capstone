{
 "cells": [
  {
   "cell_type": "markdown",
   "id": "03d605a3-f2a1-4cd5-a42b-d22afdf162d0",
   "metadata": {
    "tags": []
   },
   "source": [
    "<h1 align=center><font size = 5>Introducción / Viaje</font></h1>\n",
    "\n",
    "Capstone - Curso 9 - Semana 4 Introducción\n",
    "\n",
    "\n",
    "\n",
    "Es la primera vez que Gastón viajará a Ecuador, ha decidido quedarse en la ciudad de Quito por un par de dias dias. Para elegir donde hospedarse quiere estar seguro de que el lugar ha recibido buenas calificaciones antes (superior a 7.0) y de que tiene diferente lugares cercanos: Restaurantes, plazas, cafeterias, galerias de arte. etc, al menos 3 actividades diferentes.\n",
    "\n",
    "\n",
    "Los procesos para el desarrollo del proyecto son:\n",
    "\n",
    "Búsqueda de datos(longitud y latitud) de las distintas ciudades de Ecuador.\n",
    "\n",
    "Diseño del dataframe, con limpieza y validación de datos, centrado en la Ciudad de Quito.\n",
    "\n",
    "Uso de foursquare para la localización de lugares variados y también hoteles que cumplan con las condiciones solicitads.\n",
    "\n",
    "Conclusión del hotel en el que podría hopedarse y los lugares que estarían a disposición."
   ]
  }
 ],
 "metadata": {
  "kernelspec": {
   "display_name": "Python",
   "language": "python",
   "name": "conda-env-python-py"
  },
  "language_info": {
   "codemirror_mode": {
    "name": "ipython",
    "version": 3
   },
   "file_extension": ".py",
   "mimetype": "text/x-python",
   "name": "python",
   "nbconvert_exporter": "python",
   "pygments_lexer": "ipython3",
   "version": "3.7.12"
  }
 },
 "nbformat": 4,
 "nbformat_minor": 5
}
