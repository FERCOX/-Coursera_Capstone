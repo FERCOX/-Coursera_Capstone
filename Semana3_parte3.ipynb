{
 "cells": [
  {
   "cell_type": "markdown",
   "id": "abcb1273-f393-4129-af11-285fccc2f320",
   "metadata": {},
   "source": [
    "Tarea 3 Parte 3"
   ]
  },
  {
   "cell_type": "code",
   "execution_count": 12,
   "id": "7a5ca3dd-7a81-4ad0-8116-399200bbc7a3",
   "metadata": {},
   "outputs": [],
   "source": [
    "import pandas as pd \n",
    "import requests\n",
    "import geocoder\n",
    "import wget\n",
    "import folium"
   ]
  },
  {
   "cell_type": "code",
   "execution_count": 3,
   "id": "40a3a049-c679-42ab-9b4e-3fcca4540435",
   "metadata": {},
   "outputs": [
    {
     "data": {
      "text/html": [
       "<div>\n",
       "<style scoped>\n",
       "    .dataframe tbody tr th:only-of-type {\n",
       "        vertical-align: middle;\n",
       "    }\n",
       "\n",
       "    .dataframe tbody tr th {\n",
       "        vertical-align: top;\n",
       "    }\n",
       "\n",
       "    .dataframe thead th {\n",
       "        text-align: right;\n",
       "    }\n",
       "</style>\n",
       "<table border=\"1\" class=\"dataframe\">\n",
       "  <thead>\n",
       "    <tr style=\"text-align: right;\">\n",
       "      <th></th>\n",
       "      <th>0</th>\n",
       "      <th>1</th>\n",
       "      <th>2</th>\n",
       "      <th>3</th>\n",
       "      <th>4</th>\n",
       "      <th>5</th>\n",
       "      <th>6</th>\n",
       "      <th>7</th>\n",
       "      <th>8</th>\n",
       "    </tr>\n",
       "  </thead>\n",
       "  <tbody>\n",
       "    <tr>\n",
       "      <th>0</th>\n",
       "      <td>M1ANot assigned</td>\n",
       "      <td>M2ANot assigned</td>\n",
       "      <td>M3ANorth York(Parkwoods)</td>\n",
       "      <td>M4ANorth York(Victoria Village)</td>\n",
       "      <td>M5ADowntown Toronto(Regent Park / Harbourfront)</td>\n",
       "      <td>M6ANorth York(Lawrence Manor / Lawrence Heights)</td>\n",
       "      <td>M7AQueen's Park(Ontario Provincial Government)</td>\n",
       "      <td>M8ANot assigned</td>\n",
       "      <td>M9AEtobicoke(Islington Avenue)</td>\n",
       "    </tr>\n",
       "    <tr>\n",
       "      <th>1</th>\n",
       "      <td>M1BScarborough(Malvern / Rouge)</td>\n",
       "      <td>M2BNot assigned</td>\n",
       "      <td>M3BNorth York(Don Mills)North</td>\n",
       "      <td>M4BEast York(Parkview Hill / Woodbine Gardens)</td>\n",
       "      <td>M5BDowntown Toronto(Garden District, Ryerson)</td>\n",
       "      <td>M6BNorth York(Glencairn)</td>\n",
       "      <td>M7BNot assigned</td>\n",
       "      <td>M8BNot assigned</td>\n",
       "      <td>M9BEtobicoke(West Deane Park / Princess Garden...</td>\n",
       "    </tr>\n",
       "    <tr>\n",
       "      <th>2</th>\n",
       "      <td>M1CScarborough(Rouge Hill / Port Union / Highl...</td>\n",
       "      <td>M2CNot assigned</td>\n",
       "      <td>M3CNorth York(Don Mills)South(Flemingdon Park)</td>\n",
       "      <td>M4CEast York(Woodbine Heights)</td>\n",
       "      <td>M5CDowntown Toronto(St. James Town)</td>\n",
       "      <td>M6CYork(Humewood-Cedarvale)</td>\n",
       "      <td>M7CNot assigned</td>\n",
       "      <td>M8CNot assigned</td>\n",
       "      <td>M9CEtobicoke(Eringate / Bloordale Gardens / Ol...</td>\n",
       "    </tr>\n",
       "    <tr>\n",
       "      <th>3</th>\n",
       "      <td>M1EScarborough(Guildwood / Morningside / West ...</td>\n",
       "      <td>M2ENot assigned</td>\n",
       "      <td>M3ENot assigned</td>\n",
       "      <td>M4EEast Toronto(The Beaches)</td>\n",
       "      <td>M5EDowntown Toronto(Berczy Park)</td>\n",
       "      <td>M6EYork(Caledonia-Fairbanks)</td>\n",
       "      <td>M7ENot assigned</td>\n",
       "      <td>M8ENot assigned</td>\n",
       "      <td>M9ENot assigned</td>\n",
       "    </tr>\n",
       "    <tr>\n",
       "      <th>4</th>\n",
       "      <td>M1GScarborough(Woburn)</td>\n",
       "      <td>M2GNot assigned</td>\n",
       "      <td>M3GNot assigned</td>\n",
       "      <td>M4GEast York(Leaside)</td>\n",
       "      <td>M5GDowntown Toronto(Central Bay Street)</td>\n",
       "      <td>M6GDowntown Toronto(Christie)</td>\n",
       "      <td>M7GNot assigned</td>\n",
       "      <td>M8GNot assigned</td>\n",
       "      <td>M9GNot assigned</td>\n",
       "    </tr>\n",
       "  </tbody>\n",
       "</table>\n",
       "</div>"
      ],
      "text/plain": [
       "                                                   0                1  \\\n",
       "0                                    M1ANot assigned  M2ANot assigned   \n",
       "1                    M1BScarborough(Malvern / Rouge)  M2BNot assigned   \n",
       "2  M1CScarborough(Rouge Hill / Port Union / Highl...  M2CNot assigned   \n",
       "3  M1EScarborough(Guildwood / Morningside / West ...  M2ENot assigned   \n",
       "4                             M1GScarborough(Woburn)  M2GNot assigned   \n",
       "\n",
       "                                                2  \\\n",
       "0                        M3ANorth York(Parkwoods)   \n",
       "1                   M3BNorth York(Don Mills)North   \n",
       "2  M3CNorth York(Don Mills)South(Flemingdon Park)   \n",
       "3                                 M3ENot assigned   \n",
       "4                                 M3GNot assigned   \n",
       "\n",
       "                                                3  \\\n",
       "0                 M4ANorth York(Victoria Village)   \n",
       "1  M4BEast York(Parkview Hill / Woodbine Gardens)   \n",
       "2                  M4CEast York(Woodbine Heights)   \n",
       "3                    M4EEast Toronto(The Beaches)   \n",
       "4                           M4GEast York(Leaside)   \n",
       "\n",
       "                                                 4  \\\n",
       "0  M5ADowntown Toronto(Regent Park / Harbourfront)   \n",
       "1    M5BDowntown Toronto(Garden District, Ryerson)   \n",
       "2              M5CDowntown Toronto(St. James Town)   \n",
       "3                 M5EDowntown Toronto(Berczy Park)   \n",
       "4          M5GDowntown Toronto(Central Bay Street)   \n",
       "\n",
       "                                                  5  \\\n",
       "0  M6ANorth York(Lawrence Manor / Lawrence Heights)   \n",
       "1                          M6BNorth York(Glencairn)   \n",
       "2                       M6CYork(Humewood-Cedarvale)   \n",
       "3                      M6EYork(Caledonia-Fairbanks)   \n",
       "4                     M6GDowntown Toronto(Christie)   \n",
       "\n",
       "                                                6                7  \\\n",
       "0  M7AQueen's Park(Ontario Provincial Government)  M8ANot assigned   \n",
       "1                                 M7BNot assigned  M8BNot assigned   \n",
       "2                                 M7CNot assigned  M8CNot assigned   \n",
       "3                                 M7ENot assigned  M8ENot assigned   \n",
       "4                                 M7GNot assigned  M8GNot assigned   \n",
       "\n",
       "                                                   8  \n",
       "0                     M9AEtobicoke(Islington Avenue)  \n",
       "1  M9BEtobicoke(West Deane Park / Princess Garden...  \n",
       "2  M9CEtobicoke(Eringate / Bloordale Gardens / Ol...  \n",
       "3                                    M9ENot assigned  \n",
       "4                                    M9GNot assigned  "
      ]
     },
     "execution_count": 3,
     "metadata": {},
     "output_type": "execute_result"
    }
   ],
   "source": [
    "df = pd.read_html(\"https://en.wikipedia.org/wiki/List_of_postal_codes_of_Canada:_M\")\n",
    "df = df[0]\n",
    "df.head()"
   ]
  },
  {
   "cell_type": "code",
   "execution_count": 4,
   "id": "cc5e59e9-bcdb-4276-88ab-659ba711853b",
   "metadata": {},
   "outputs": [],
   "source": [
    "code_list = df.values.tolist()"
   ]
  },
  {
   "cell_type": "markdown",
   "id": "a56525af-c2fb-4e94-902f-9d17db6b44ae",
   "metadata": {},
   "source": [
    "Guardo código postal que si esta asignado"
   ]
  },
  {
   "cell_type": "code",
   "execution_count": 5,
   "id": "2984be38-8f7e-41ab-bd72-28baa7d79c65",
   "metadata": {},
   "outputs": [],
   "source": [
    "postal_code =[]\n",
    "borough = []\n",
    "nb = []\n",
    "for i in code_list:\n",
    "    for j in i:\n",
    "        if j[3:] == 'Not assigned':\n",
    "            pass\n",
    "        else:\n",
    "            postal_code.append(j[0:3])\n",
    "            sep = j[3:].split('(')\n",
    "            borough.append(sep[0])\n",
    "            nb.append(sep[1].split(')')[0])\n",
    "data = {'Postal_Code':postal_code,'Borough':borough,'Neighborhood':nb}"
   ]
  },
  {
   "cell_type": "markdown",
   "id": "a56e95b5-81ac-4ad7-924e-e0514f7b1f8a",
   "metadata": {},
   "source": [
    "Crear Data frame"
   ]
  },
  {
   "cell_type": "code",
   "execution_count": 6,
   "id": "9be3f8b7-1cd6-4cfa-bae2-ea95271b4efa",
   "metadata": {},
   "outputs": [
    {
     "data": {
      "text/html": [
       "<div>\n",
       "<style scoped>\n",
       "    .dataframe tbody tr th:only-of-type {\n",
       "        vertical-align: middle;\n",
       "    }\n",
       "\n",
       "    .dataframe tbody tr th {\n",
       "        vertical-align: top;\n",
       "    }\n",
       "\n",
       "    .dataframe thead th {\n",
       "        text-align: right;\n",
       "    }\n",
       "</style>\n",
       "<table border=\"1\" class=\"dataframe\">\n",
       "  <thead>\n",
       "    <tr style=\"text-align: right;\">\n",
       "      <th></th>\n",
       "      <th>Postal_Code</th>\n",
       "      <th>Borough</th>\n",
       "      <th>Neighborhood</th>\n",
       "    </tr>\n",
       "  </thead>\n",
       "  <tbody>\n",
       "    <tr>\n",
       "      <th>0</th>\n",
       "      <td>M3A</td>\n",
       "      <td>North York</td>\n",
       "      <td>Parkwoods</td>\n",
       "    </tr>\n",
       "    <tr>\n",
       "      <th>1</th>\n",
       "      <td>M4A</td>\n",
       "      <td>North York</td>\n",
       "      <td>Victoria Village</td>\n",
       "    </tr>\n",
       "    <tr>\n",
       "      <th>2</th>\n",
       "      <td>M5A</td>\n",
       "      <td>Downtown Toronto</td>\n",
       "      <td>Regent Park / Harbourfront</td>\n",
       "    </tr>\n",
       "    <tr>\n",
       "      <th>3</th>\n",
       "      <td>M6A</td>\n",
       "      <td>North York</td>\n",
       "      <td>Lawrence Manor / Lawrence Heights</td>\n",
       "    </tr>\n",
       "    <tr>\n",
       "      <th>4</th>\n",
       "      <td>M7A</td>\n",
       "      <td>Queen's Park</td>\n",
       "      <td>Ontario Provincial Government</td>\n",
       "    </tr>\n",
       "  </tbody>\n",
       "</table>\n",
       "</div>"
      ],
      "text/plain": [
       "  Postal_Code           Borough                       Neighborhood\n",
       "0         M3A        North York                          Parkwoods\n",
       "1         M4A        North York                   Victoria Village\n",
       "2         M5A  Downtown Toronto         Regent Park / Harbourfront\n",
       "3         M6A        North York  Lawrence Manor / Lawrence Heights\n",
       "4         M7A      Queen's Park      Ontario Provincial Government"
      ]
     },
     "execution_count": 6,
     "metadata": {},
     "output_type": "execute_result"
    }
   ],
   "source": [
    "dfcp = pd.DataFrame(data)\n",
    "dfcp.head()"
   ]
  },
  {
   "cell_type": "code",
   "execution_count": 7,
   "id": "9e5ed755-fee2-44b5-b5cf-e5b8b9842002",
   "metadata": {},
   "outputs": [
    {
     "data": {
      "text/plain": [
       "(103, 3)"
      ]
     },
     "execution_count": 7,
     "metadata": {},
     "output_type": "execute_result"
    }
   ],
   "source": [
    "dfcp.shape"
   ]
  },
  {
   "cell_type": "code",
   "execution_count": 9,
   "id": "635822d5-8161-4fa1-af41-3ef0c57e0349",
   "metadata": {},
   "outputs": [
    {
     "name": "stdout",
     "output_type": "stream",
     "text": [
      "URL transformed to HTTPS due to an HSTS policy\n",
      "--2022-03-09 03:08:13--  https://cocl.us/Geospatial_data\n",
      "Resolving cocl.us (cocl.us)... 150.239.113.228, 150.239.82.32\n",
      "Connecting to cocl.us (cocl.us)|150.239.113.228|:443... connected.\n",
      "HTTP request sent, awaiting response... 301 Moved Permanently\n",
      "Location: https://ibm.box.com/shared/static/9afzr83pps4pwf2smjjcf1y5mvgb18rr.csv [following]\n",
      "--2022-03-09 03:08:14--  https://ibm.box.com/shared/static/9afzr83pps4pwf2smjjcf1y5mvgb18rr.csv\n",
      "Resolving ibm.box.com (ibm.box.com)... 107.152.29.197\n",
      "Connecting to ibm.box.com (ibm.box.com)|107.152.29.197|:443... connected.\n",
      "HTTP request sent, awaiting response... 301 Moved Permanently\n",
      "Location: /public/static/9afzr83pps4pwf2smjjcf1y5mvgb18rr.csv [following]\n",
      "--2022-03-09 03:08:14--  https://ibm.box.com/public/static/9afzr83pps4pwf2smjjcf1y5mvgb18rr.csv\n",
      "Reusing existing connection to ibm.box.com:443.\n",
      "HTTP request sent, awaiting response... 301 Moved Permanently\n",
      "Location: https://ibm.ent.box.com/public/static/9afzr83pps4pwf2smjjcf1y5mvgb18rr.csv [following]\n",
      "--2022-03-09 03:08:14--  https://ibm.ent.box.com/public/static/9afzr83pps4pwf2smjjcf1y5mvgb18rr.csv\n",
      "Resolving ibm.ent.box.com (ibm.ent.box.com)... 107.152.26.201\n",
      "Connecting to ibm.ent.box.com (ibm.ent.box.com)|107.152.26.201|:443... connected.\n",
      "HTTP request sent, awaiting response... 302 Found\n",
      "Location: https://public.boxcloud.com/d/1/b1!vYZK_btjWrJ0AH315dBqjMFLPpgent454oqZADlnjn8df5oN5_C2fz_8G9Xm-UnXEUlAH8ILP235gn9Li8tTlDIC5SC_9WQ3xBcNHpFSWLcCq1bpVcH5Wtm59XaSBq6yFwD2Jh4XMxRMkBFjzKtGI-Lbv_npQ-A7b09_7USW3zBYKzSHo3SiWHO0ejetvwQxabehar-mOeYG0fM_Za4rgi3Vqbwvr01Wn_4Z_fvjjeMMfEhrtx-8x5bwi-b_GVqoo25Dd3TWtKDs-AY3h7IIHILkbjcqnn-IMRvaZkeioXIi8k5fh9NiUwa0SWgQ3L9Z7yPRRs7w6QpMBbyrVgssN9yaIVMbfq1mBHv5EhIU5saWU98UkDFqJlH4MygOjnDAP4W4w4QinxY58MnFlKld-hopsHYMQslWI_nZ6I05Cn5ruOviIFMhO6p0OmpdaJUTHX0hFH7MQUCKKLIOlE2FlIYA3LzL_ER-x20PWyDqRIAAwLJRSbi-zYOvCgDauyxPXLgF3bffJzxgSh9GPCZOQKjB0fcKB6eWH1yb3RkTw0ezvwV5xS7seJjU43H4NTXFoK2HbRLcLodWyZitCjX74koOtebXccads7Yx4LQSpNH_Jz52M6Dloj-yuxC5bJw2uFtVo5wKHG_wiSxHH1CbIhLMB3HBNLLw_WVQwZrn4z8zTWCCyYvbM5MeMys9AEftmMWUaNZV4eteC4bXJcrwicrTHxoVQm5n0_4EV9_OaCE5HWWsnhnLH5aCWJHBzEyj94BtjpT-hsAn8E6NWYhFAYL6kwx6mpnU-z_gwQNZnM5HwJEzyIKqwC_INu3i3zPu79r2sU_aSmYfdyvXl0GpRPOoLA9YluD5GOSysoOc-DpMuMH4T81JdGmvvCmUWI2FCF96KrRlcOJiiK8zU5VhNWiNKG_4tDDOAk03bEOi4hZnVUdKE0iiRnmW8SrUFNT1Del1a0jTJhOL2IdOxSBvMIgV_t_WrJlEPvg099rldCRNlgZElJgcYHQs3guCqfCApe0wKxi1qXNdo1ctbNnBMilbCHWgjbW1u1etxLSYheXIBtQh0qjVPQhmxQec6zyqoB-dQAqSim0dbDklexDeCU_RzwmF8PsTHJ593okAsBW-lQA1cld_elOtT2O_v2an5yiIWVytt1VAhTddlbEsWXY3vci1qZkjn9_Zn3jMwJGhayuYvHgHC3bnf_ZniXPapqao3pmt2SqS7DxrrGgi1n5A7PY8lE86rW6ctzMVBBbP_H7F1vORe6e6Nv3Y3Ngj5Zo58mTMcIi_3cqhozNZPhg8XktrpsGBvUZ8MPVo_yADOmEQAVvUa6yFglDTnejdwIi8cOLSU5OFCqEoDfsF_Q5TyEB9PwpbueSJuZxcNOEDpmLvUMZj9xbPs1kFeKLV2LXRkN9-Ry5XVfptJirC2_ry7m-6Fx83XXQuoT-0_Kk./download [following]\n",
      "--2022-03-09 03:08:16--  https://public.boxcloud.com/d/1/b1!vYZK_btjWrJ0AH315dBqjMFLPpgent454oqZADlnjn8df5oN5_C2fz_8G9Xm-UnXEUlAH8ILP235gn9Li8tTlDIC5SC_9WQ3xBcNHpFSWLcCq1bpVcH5Wtm59XaSBq6yFwD2Jh4XMxRMkBFjzKtGI-Lbv_npQ-A7b09_7USW3zBYKzSHo3SiWHO0ejetvwQxabehar-mOeYG0fM_Za4rgi3Vqbwvr01Wn_4Z_fvjjeMMfEhrtx-8x5bwi-b_GVqoo25Dd3TWtKDs-AY3h7IIHILkbjcqnn-IMRvaZkeioXIi8k5fh9NiUwa0SWgQ3L9Z7yPRRs7w6QpMBbyrVgssN9yaIVMbfq1mBHv5EhIU5saWU98UkDFqJlH4MygOjnDAP4W4w4QinxY58MnFlKld-hopsHYMQslWI_nZ6I05Cn5ruOviIFMhO6p0OmpdaJUTHX0hFH7MQUCKKLIOlE2FlIYA3LzL_ER-x20PWyDqRIAAwLJRSbi-zYOvCgDauyxPXLgF3bffJzxgSh9GPCZOQKjB0fcKB6eWH1yb3RkTw0ezvwV5xS7seJjU43H4NTXFoK2HbRLcLodWyZitCjX74koOtebXccads7Yx4LQSpNH_Jz52M6Dloj-yuxC5bJw2uFtVo5wKHG_wiSxHH1CbIhLMB3HBNLLw_WVQwZrn4z8zTWCCyYvbM5MeMys9AEftmMWUaNZV4eteC4bXJcrwicrTHxoVQm5n0_4EV9_OaCE5HWWsnhnLH5aCWJHBzEyj94BtjpT-hsAn8E6NWYhFAYL6kwx6mpnU-z_gwQNZnM5HwJEzyIKqwC_INu3i3zPu79r2sU_aSmYfdyvXl0GpRPOoLA9YluD5GOSysoOc-DpMuMH4T81JdGmvvCmUWI2FCF96KrRlcOJiiK8zU5VhNWiNKG_4tDDOAk03bEOi4hZnVUdKE0iiRnmW8SrUFNT1Del1a0jTJhOL2IdOxSBvMIgV_t_WrJlEPvg099rldCRNlgZElJgcYHQs3guCqfCApe0wKxi1qXNdo1ctbNnBMilbCHWgjbW1u1etxLSYheXIBtQh0qjVPQhmxQec6zyqoB-dQAqSim0dbDklexDeCU_RzwmF8PsTHJ593okAsBW-lQA1cld_elOtT2O_v2an5yiIWVytt1VAhTddlbEsWXY3vci1qZkjn9_Zn3jMwJGhayuYvHgHC3bnf_ZniXPapqao3pmt2SqS7DxrrGgi1n5A7PY8lE86rW6ctzMVBBbP_H7F1vORe6e6Nv3Y3Ngj5Zo58mTMcIi_3cqhozNZPhg8XktrpsGBvUZ8MPVo_yADOmEQAVvUa6yFglDTnejdwIi8cOLSU5OFCqEoDfsF_Q5TyEB9PwpbueSJuZxcNOEDpmLvUMZj9xbPs1kFeKLV2LXRkN9-Ry5XVfptJirC2_ry7m-6Fx83XXQuoT-0_Kk./download\n",
      "Resolving public.boxcloud.com (public.boxcloud.com)... 107.152.29.200\n",
      "Connecting to public.boxcloud.com (public.boxcloud.com)|107.152.29.200|:443... connected.\n",
      "HTTP request sent, awaiting response... 200 OK\n",
      "Length: 2891 (2.8K) [text/csv]\n",
      "Saving to: ‘toronto_coord.csv’\n",
      "\n",
      "toronto_coord.csv   100%[===================>]   2.82K  --.-KB/s    in 0s      \n",
      "\n",
      "2022-03-09 03:08:16 (80.4 MB/s) - ‘toronto_coord.csv’ saved [2891/2891]\n",
      "\n",
      "  Postal Code   Latitude  Longitude\n",
      "0         M1B  43.806686 -79.194353\n",
      "1         M1C  43.784535 -79.160497\n",
      "2         M1E  43.763573 -79.188711\n",
      "3         M1G  43.770992 -79.216917\n",
      "4         M1H  43.773136 -79.239476\n"
     ]
    }
   ],
   "source": [
    "!wget -O toronto_coord.csv http://cocl.us/Geospatial_data \n",
    "df_coord = pd.read_csv('toronto_coord.csv')\n",
    "print(df_coord.head())"
   ]
  },
  {
   "cell_type": "markdown",
   "id": "1ca29ee9-af89-4a62-a598-13825ebb3b5c",
   "metadata": {},
   "source": [
    "Pongo nombres iguales en el Codigo postal"
   ]
  },
  {
   "cell_type": "code",
   "execution_count": 10,
   "id": "3ee6c8cf-9835-42a4-bc44-3c6ae6049dd3",
   "metadata": {},
   "outputs": [
    {
     "data": {
      "text/html": [
       "<div>\n",
       "<style scoped>\n",
       "    .dataframe tbody tr th:only-of-type {\n",
       "        vertical-align: middle;\n",
       "    }\n",
       "\n",
       "    .dataframe tbody tr th {\n",
       "        vertical-align: top;\n",
       "    }\n",
       "\n",
       "    .dataframe thead th {\n",
       "        text-align: right;\n",
       "    }\n",
       "</style>\n",
       "<table border=\"1\" class=\"dataframe\">\n",
       "  <thead>\n",
       "    <tr style=\"text-align: right;\">\n",
       "      <th></th>\n",
       "      <th>Postal_Code</th>\n",
       "      <th>Latitude</th>\n",
       "      <th>Longitude</th>\n",
       "    </tr>\n",
       "  </thead>\n",
       "  <tbody>\n",
       "    <tr>\n",
       "      <th>0</th>\n",
       "      <td>M1B</td>\n",
       "      <td>43.806686</td>\n",
       "      <td>-79.194353</td>\n",
       "    </tr>\n",
       "    <tr>\n",
       "      <th>1</th>\n",
       "      <td>M1C</td>\n",
       "      <td>43.784535</td>\n",
       "      <td>-79.160497</td>\n",
       "    </tr>\n",
       "    <tr>\n",
       "      <th>2</th>\n",
       "      <td>M1E</td>\n",
       "      <td>43.763573</td>\n",
       "      <td>-79.188711</td>\n",
       "    </tr>\n",
       "    <tr>\n",
       "      <th>3</th>\n",
       "      <td>M1G</td>\n",
       "      <td>43.770992</td>\n",
       "      <td>-79.216917</td>\n",
       "    </tr>\n",
       "    <tr>\n",
       "      <th>4</th>\n",
       "      <td>M1H</td>\n",
       "      <td>43.773136</td>\n",
       "      <td>-79.239476</td>\n",
       "    </tr>\n",
       "  </tbody>\n",
       "</table>\n",
       "</div>"
      ],
      "text/plain": [
       "  Postal_Code   Latitude  Longitude\n",
       "0         M1B  43.806686 -79.194353\n",
       "1         M1C  43.784535 -79.160497\n",
       "2         M1E  43.763573 -79.188711\n",
       "3         M1G  43.770992 -79.216917\n",
       "4         M1H  43.773136 -79.239476"
      ]
     },
     "execution_count": 10,
     "metadata": {},
     "output_type": "execute_result"
    }
   ],
   "source": [
    "df_coord.columns = ['Postal_Code','Latitude','Longitude']\n",
    "df_coord.head()"
   ]
  },
  {
   "cell_type": "markdown",
   "id": "118d3ae6-cb1a-4793-a0eb-f580b1422503",
   "metadata": {},
   "source": [
    "Junto los Dataframe"
   ]
  },
  {
   "cell_type": "code",
   "execution_count": 19,
   "id": "752c9c25-a6ab-4a1e-9651-60b7a03957c3",
   "metadata": {},
   "outputs": [
    {
     "data": {
      "text/html": [
       "<div>\n",
       "<style scoped>\n",
       "    .dataframe tbody tr th:only-of-type {\n",
       "        vertical-align: middle;\n",
       "    }\n",
       "\n",
       "    .dataframe tbody tr th {\n",
       "        vertical-align: top;\n",
       "    }\n",
       "\n",
       "    .dataframe thead th {\n",
       "        text-align: right;\n",
       "    }\n",
       "</style>\n",
       "<table border=\"1\" class=\"dataframe\">\n",
       "  <thead>\n",
       "    <tr style=\"text-align: right;\">\n",
       "      <th></th>\n",
       "      <th>Postal_Code</th>\n",
       "      <th>Borough</th>\n",
       "      <th>Neighborhood</th>\n",
       "      <th>Latitude</th>\n",
       "      <th>Longitude</th>\n",
       "    </tr>\n",
       "  </thead>\n",
       "  <tbody>\n",
       "    <tr>\n",
       "      <th>0</th>\n",
       "      <td>M3A</td>\n",
       "      <td>North York</td>\n",
       "      <td>Parkwoods</td>\n",
       "      <td>43.753259</td>\n",
       "      <td>-79.329656</td>\n",
       "    </tr>\n",
       "    <tr>\n",
       "      <th>1</th>\n",
       "      <td>M4A</td>\n",
       "      <td>North York</td>\n",
       "      <td>Victoria Village</td>\n",
       "      <td>43.725882</td>\n",
       "      <td>-79.315572</td>\n",
       "    </tr>\n",
       "    <tr>\n",
       "      <th>2</th>\n",
       "      <td>M5A</td>\n",
       "      <td>Downtown Toronto</td>\n",
       "      <td>Regent Park / Harbourfront</td>\n",
       "      <td>43.654260</td>\n",
       "      <td>-79.360636</td>\n",
       "    </tr>\n",
       "    <tr>\n",
       "      <th>3</th>\n",
       "      <td>M6A</td>\n",
       "      <td>North York</td>\n",
       "      <td>Lawrence Manor / Lawrence Heights</td>\n",
       "      <td>43.718518</td>\n",
       "      <td>-79.464763</td>\n",
       "    </tr>\n",
       "    <tr>\n",
       "      <th>4</th>\n",
       "      <td>M7A</td>\n",
       "      <td>Queen's Park</td>\n",
       "      <td>Ontario Provincial Government</td>\n",
       "      <td>43.662301</td>\n",
       "      <td>-79.389494</td>\n",
       "    </tr>\n",
       "  </tbody>\n",
       "</table>\n",
       "</div>"
      ],
      "text/plain": [
       "  Postal_Code           Borough                       Neighborhood   Latitude  \\\n",
       "0         M3A        North York                          Parkwoods  43.753259   \n",
       "1         M4A        North York                   Victoria Village  43.725882   \n",
       "2         M5A  Downtown Toronto         Regent Park / Harbourfront  43.654260   \n",
       "3         M6A        North York  Lawrence Manor / Lawrence Heights  43.718518   \n",
       "4         M7A      Queen's Park      Ontario Provincial Government  43.662301   \n",
       "\n",
       "   Longitude  \n",
       "0 -79.329656  \n",
       "1 -79.315572  \n",
       "2 -79.360636  \n",
       "3 -79.464763  \n",
       "4 -79.389494  "
      ]
     },
     "execution_count": 19,
     "metadata": {},
     "output_type": "execute_result"
    }
   ],
   "source": [
    "df_total = pd.merge(dfcp,df_coord)\n",
    "df_total.head()"
   ]
  },
  {
   "cell_type": "markdown",
   "id": "33f1244d-493c-4d7e-b80d-96023f5eb822",
   "metadata": {},
   "source": [
    "Definir mapa de la ciudad"
   ]
  },
  {
   "cell_type": "code",
   "execution_count": 20,
   "id": "e041f145-05a1-4dff-bbf5-8152a749b4e1",
   "metadata": {},
   "outputs": [
    {
     "data": {
      "text/html": [
       "<div style=\"width:100%;\"><div style=\"position:relative;width:100%;height:0;padding-bottom:60%;\"><span style=\"color:#565656\">Make this Notebook Trusted to load map: File -> Trust Notebook</span><iframe src=\"about:blank\" style=\"position:absolute;width:100%;height:100%;left:0;top:0;border:none !important;\" data-html=%3C%21DOCTYPE%20html%3E%0A%3Chead%3E%20%20%20%20%0A%20%20%20%20%3Cmeta%20http-equiv%3D%22content-type%22%20content%3D%22text/html%3B%20charset%3DUTF-8%22%20/%3E%0A%20%20%20%20%3Cscript%3EL_PREFER_CANVAS%20%3D%20false%3B%20L_NO_TOUCH%20%3D%20false%3B%20L_DISABLE_3D%20%3D%20false%3B%3C/script%3E%0A%20%20%20%20%3Cscript%20src%3D%22https%3A//cdn.jsdelivr.net/npm/leaflet%401.2.0/dist/leaflet.js%22%3E%3C/script%3E%0A%20%20%20%20%3Cscript%20src%3D%22https%3A//ajax.googleapis.com/ajax/libs/jquery/1.11.1/jquery.min.js%22%3E%3C/script%3E%0A%20%20%20%20%3Cscript%20src%3D%22https%3A//maxcdn.bootstrapcdn.com/bootstrap/3.2.0/js/bootstrap.min.js%22%3E%3C/script%3E%0A%20%20%20%20%3Cscript%20src%3D%22https%3A//cdnjs.cloudflare.com/ajax/libs/Leaflet.awesome-markers/2.0.2/leaflet.awesome-markers.js%22%3E%3C/script%3E%0A%20%20%20%20%3Clink%20rel%3D%22stylesheet%22%20href%3D%22https%3A//cdn.jsdelivr.net/npm/leaflet%401.2.0/dist/leaflet.css%22/%3E%0A%20%20%20%20%3Clink%20rel%3D%22stylesheet%22%20href%3D%22https%3A//maxcdn.bootstrapcdn.com/bootstrap/3.2.0/css/bootstrap.min.css%22/%3E%0A%20%20%20%20%3Clink%20rel%3D%22stylesheet%22%20href%3D%22https%3A//maxcdn.bootstrapcdn.com/bootstrap/3.2.0/css/bootstrap-theme.min.css%22/%3E%0A%20%20%20%20%3Clink%20rel%3D%22stylesheet%22%20href%3D%22https%3A//maxcdn.bootstrapcdn.com/font-awesome/4.6.3/css/font-awesome.min.css%22/%3E%0A%20%20%20%20%3Clink%20rel%3D%22stylesheet%22%20href%3D%22https%3A//cdnjs.cloudflare.com/ajax/libs/Leaflet.awesome-markers/2.0.2/leaflet.awesome-markers.css%22/%3E%0A%20%20%20%20%3Clink%20rel%3D%22stylesheet%22%20href%3D%22https%3A//rawgit.com/python-visualization/folium/master/folium/templates/leaflet.awesome.rotate.css%22/%3E%0A%20%20%20%20%3Cstyle%3Ehtml%2C%20body%20%7Bwidth%3A%20100%25%3Bheight%3A%20100%25%3Bmargin%3A%200%3Bpadding%3A%200%3B%7D%3C/style%3E%0A%20%20%20%20%3Cstyle%3E%23map%20%7Bposition%3Aabsolute%3Btop%3A0%3Bbottom%3A0%3Bright%3A0%3Bleft%3A0%3B%7D%3C/style%3E%0A%20%20%20%20%0A%20%20%20%20%20%20%20%20%20%20%20%20%3Cstyle%3E%20%23map_a62bdae4778b45c58b857cc5317a0d5f%20%7B%0A%20%20%20%20%20%20%20%20%20%20%20%20%20%20%20%20position%20%3A%20relative%3B%0A%20%20%20%20%20%20%20%20%20%20%20%20%20%20%20%20width%20%3A%20100.0%25%3B%0A%20%20%20%20%20%20%20%20%20%20%20%20%20%20%20%20height%3A%20100.0%25%3B%0A%20%20%20%20%20%20%20%20%20%20%20%20%20%20%20%20left%3A%200.0%25%3B%0A%20%20%20%20%20%20%20%20%20%20%20%20%20%20%20%20top%3A%200.0%25%3B%0A%20%20%20%20%20%20%20%20%20%20%20%20%20%20%20%20%7D%0A%20%20%20%20%20%20%20%20%20%20%20%20%3C/style%3E%0A%20%20%20%20%20%20%20%20%0A%3C/head%3E%0A%3Cbody%3E%20%20%20%20%0A%20%20%20%20%0A%20%20%20%20%20%20%20%20%20%20%20%20%3Cdiv%20class%3D%22folium-map%22%20id%3D%22map_a62bdae4778b45c58b857cc5317a0d5f%22%20%3E%3C/div%3E%0A%20%20%20%20%20%20%20%20%0A%3C/body%3E%0A%3Cscript%3E%20%20%20%20%0A%20%20%20%20%0A%0A%20%20%20%20%20%20%20%20%20%20%20%20%0A%20%20%20%20%20%20%20%20%20%20%20%20%20%20%20%20var%20bounds%20%3D%20null%3B%0A%20%20%20%20%20%20%20%20%20%20%20%20%0A%0A%20%20%20%20%20%20%20%20%20%20%20%20var%20map_a62bdae4778b45c58b857cc5317a0d5f%20%3D%20L.map%28%0A%20%20%20%20%20%20%20%20%20%20%20%20%20%20%20%20%20%20%20%20%20%20%20%20%20%20%20%20%20%20%20%20%20%20%27map_a62bdae4778b45c58b857cc5317a0d5f%27%2C%0A%20%20%20%20%20%20%20%20%20%20%20%20%20%20%20%20%20%20%20%20%20%20%20%20%20%20%20%20%20%20%20%20%20%20%7Bcenter%3A%20%5B43.70011%2C-79.4163%5D%2C%0A%20%20%20%20%20%20%20%20%20%20%20%20%20%20%20%20%20%20%20%20%20%20%20%20%20%20%20%20%20%20%20%20%20%20zoom%3A%208%2C%0A%20%20%20%20%20%20%20%20%20%20%20%20%20%20%20%20%20%20%20%20%20%20%20%20%20%20%20%20%20%20%20%20%20%20maxBounds%3A%20bounds%2C%0A%20%20%20%20%20%20%20%20%20%20%20%20%20%20%20%20%20%20%20%20%20%20%20%20%20%20%20%20%20%20%20%20%20%20layers%3A%20%5B%5D%2C%0A%20%20%20%20%20%20%20%20%20%20%20%20%20%20%20%20%20%20%20%20%20%20%20%20%20%20%20%20%20%20%20%20%20%20worldCopyJump%3A%20false%2C%0A%20%20%20%20%20%20%20%20%20%20%20%20%20%20%20%20%20%20%20%20%20%20%20%20%20%20%20%20%20%20%20%20%20%20crs%3A%20L.CRS.EPSG3857%0A%20%20%20%20%20%20%20%20%20%20%20%20%20%20%20%20%20%20%20%20%20%20%20%20%20%20%20%20%20%20%20%20%20%7D%29%3B%0A%20%20%20%20%20%20%20%20%20%20%20%20%0A%20%20%20%20%20%20%20%20%0A%20%20%20%20%0A%20%20%20%20%20%20%20%20%20%20%20%20var%20tile_layer_1f7a84b7e10049ecbfd0479a7f618827%20%3D%20L.tileLayer%28%0A%20%20%20%20%20%20%20%20%20%20%20%20%20%20%20%20%27https%3A//%7Bs%7D.tile.openstreetmap.org/%7Bz%7D/%7Bx%7D/%7By%7D.png%27%2C%0A%20%20%20%20%20%20%20%20%20%20%20%20%20%20%20%20%7B%0A%20%20%22attribution%22%3A%20null%2C%0A%20%20%22detectRetina%22%3A%20false%2C%0A%20%20%22maxZoom%22%3A%2018%2C%0A%20%20%22minZoom%22%3A%201%2C%0A%20%20%22noWrap%22%3A%20false%2C%0A%20%20%22subdomains%22%3A%20%22abc%22%0A%7D%0A%20%20%20%20%20%20%20%20%20%20%20%20%20%20%20%20%29.addTo%28map_a62bdae4778b45c58b857cc5317a0d5f%29%3B%0A%20%20%20%20%20%20%20%20%0A%3C/script%3E onload=\"this.contentDocument.open();this.contentDocument.write(    decodeURIComponent(this.getAttribute('data-html')));this.contentDocument.close();\" allowfullscreen webkitallowfullscreen mozallowfullscreen></iframe></div></div>"
      ],
      "text/plain": [
       "<folium.folium.Map at 0x7efe8fdc23d0>"
      ]
     },
     "execution_count": 20,
     "metadata": {},
     "output_type": "execute_result"
    }
   ],
   "source": [
    "Ciudad_Toronto = folium.Map([43.70011, -79.4163],zoom_start=8)\n",
    "Ciudad_Toronto"
   ]
  },
  {
   "cell_type": "markdown",
   "id": "deedcdaa-b77d-480b-9a48-dd6490a7a6f3",
   "metadata": {},
   "source": [
    "Selecciono Codigos solo de La Toronto"
   ]
  },
  {
   "cell_type": "code",
   "execution_count": 23,
   "id": "2a795697-62a0-4a46-a3ce-6cdab00755f6",
   "metadata": {},
   "outputs": [
    {
     "data": {
      "text/html": [
       "<div>\n",
       "<style scoped>\n",
       "    .dataframe tbody tr th:only-of-type {\n",
       "        vertical-align: middle;\n",
       "    }\n",
       "\n",
       "    .dataframe tbody tr th {\n",
       "        vertical-align: top;\n",
       "    }\n",
       "\n",
       "    .dataframe thead th {\n",
       "        text-align: right;\n",
       "    }\n",
       "</style>\n",
       "<table border=\"1\" class=\"dataframe\">\n",
       "  <thead>\n",
       "    <tr style=\"text-align: right;\">\n",
       "      <th></th>\n",
       "      <th>Postal_Code</th>\n",
       "      <th>Borough</th>\n",
       "      <th>Neighborhood</th>\n",
       "      <th>Latitude</th>\n",
       "      <th>Longitude</th>\n",
       "    </tr>\n",
       "  </thead>\n",
       "  <tbody>\n",
       "    <tr>\n",
       "      <th>2</th>\n",
       "      <td>M5A</td>\n",
       "      <td>Downtown Toronto</td>\n",
       "      <td>Regent Park / Harbourfront</td>\n",
       "      <td>43.654260</td>\n",
       "      <td>-79.360636</td>\n",
       "    </tr>\n",
       "    <tr>\n",
       "      <th>9</th>\n",
       "      <td>M5B</td>\n",
       "      <td>Downtown Toronto</td>\n",
       "      <td>Garden District, Ryerson</td>\n",
       "      <td>43.657162</td>\n",
       "      <td>-79.378937</td>\n",
       "    </tr>\n",
       "    <tr>\n",
       "      <th>15</th>\n",
       "      <td>M5C</td>\n",
       "      <td>Downtown Toronto</td>\n",
       "      <td>St. James Town</td>\n",
       "      <td>43.651494</td>\n",
       "      <td>-79.375418</td>\n",
       "    </tr>\n",
       "    <tr>\n",
       "      <th>19</th>\n",
       "      <td>M4E</td>\n",
       "      <td>East Toronto</td>\n",
       "      <td>The Beaches</td>\n",
       "      <td>43.676357</td>\n",
       "      <td>-79.293031</td>\n",
       "    </tr>\n",
       "    <tr>\n",
       "      <th>20</th>\n",
       "      <td>M5E</td>\n",
       "      <td>Downtown Toronto</td>\n",
       "      <td>Berczy Park</td>\n",
       "      <td>43.644771</td>\n",
       "      <td>-79.373306</td>\n",
       "    </tr>\n",
       "  </tbody>\n",
       "</table>\n",
       "</div>"
      ],
      "text/plain": [
       "   Postal_Code           Borough                Neighborhood   Latitude  \\\n",
       "2          M5A  Downtown Toronto  Regent Park / Harbourfront  43.654260   \n",
       "9          M5B  Downtown Toronto    Garden District, Ryerson  43.657162   \n",
       "15         M5C  Downtown Toronto              St. James Town  43.651494   \n",
       "19         M4E      East Toronto                 The Beaches  43.676357   \n",
       "20         M5E  Downtown Toronto                 Berczy Park  43.644771   \n",
       "\n",
       "    Longitude  \n",
       "2  -79.360636  \n",
       "9  -79.378937  \n",
       "15 -79.375418  \n",
       "19 -79.293031  \n",
       "20 -79.373306  "
      ]
     },
     "execution_count": 23,
     "metadata": {},
     "output_type": "execute_result"
    }
   ],
   "source": [
    "torontocp = df_total[df_total.Borough.str.contains('Toronto')]\n",
    "torontocp.head()"
   ]
  },
  {
   "cell_type": "markdown",
   "id": "3f0fdbfa-d8ac-417d-bd05-e55b1524f252",
   "metadata": {},
   "source": [
    "Mapa con barrios"
   ]
  },
  {
   "cell_type": "code",
   "execution_count": null,
   "id": "29473722-8c8b-4600-816d-993b211e644f",
   "metadata": {},
   "outputs": [],
   "source": [
    "for pc,b,n,lat,long in zip(torontocp['Postal_Code'],\n",
    "                           torontocp['Borough'],\n",
    "                           torontocp['Neighborhood'],\n",
    "                           torontocp['Latitude'],\n",
    "                           torontocp['Longitude']):\n",
    "    label ='{}, {}'.format(n,b)\n",
    "    label = folium.Popup(label, parse_html=False)\n",
    "    folium.CircleMarker([lat,long],\n",
    "                        radius=9,\n",
    "                        popup=label,\n",
    "                        color='orange',\n",
    "                        parse_html=True).add_to(Ciudad_Toronto)\n",
    "Ciudad_Toronto"
   ]
  },
  {
   "cell_type": "markdown",
   "id": "dd7cdc12-70c4-4b03-920e-391feb910d7c",
   "metadata": {},
   "source": []
  }
 ],
 "metadata": {
  "kernelspec": {
   "display_name": "Python",
   "language": "python",
   "name": "conda-env-python-py"
  },
  "language_info": {
   "codemirror_mode": {
    "name": "ipython",
    "version": 3
   },
   "file_extension": ".py",
   "mimetype": "text/x-python",
   "name": "python",
   "nbconvert_exporter": "python",
   "pygments_lexer": "ipython3",
   "version": "3.7.12"
  }
 },
 "nbformat": 4,
 "nbformat_minor": 5
}
